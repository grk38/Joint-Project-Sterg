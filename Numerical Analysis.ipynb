{
 "cells": [
  {
   "cell_type": "markdown",
   "id": "fa532ce0",
   "metadata": {},
   "source": [
    "<b>Numerical Analysis notebook<b>"
   ]
  },
  {
   "cell_type": "markdown",
   "id": "a6faf1b8",
   "metadata": {},
   "source": [
    "This is a notebook dedicated to the course Numerical Analysis.The main scope would be to implement the algorithms ,taught during the semester, in Python\n"
   ]
  },
  {
   "cell_type": "markdown",
   "id": "ebd746bf",
   "metadata": {},
   "source": [
    "Finding roots to non linear equations\n"
   ]
  },
  {
   "cell_type": "code",
   "execution_count": 1,
   "id": "2b1063f3",
   "metadata": {},
   "outputs": [],
   "source": [
    "from sympy.interactive import printing\n",
    "printing.init_printing(use_latex = True)\n",
    "from sympy import *\n",
    "import matplotlib.pyplot as plt\n",
    "import seaborn as sns\n",
    "import numpy as np\n",
    "import scipy as sp\n",
    "\n"
   ]
  },
  {
   "cell_type": "code",
   "execution_count": 2,
   "id": "8482646d",
   "metadata": {},
   "outputs": [
    {
     "name": "stdout",
     "output_type": "stream",
     "text": [
      "The solution is in the interval [ -0.5 , 49.75 ] with an error less than: 2512.5 %\n",
      "The solution is in the interval [ -0.5 , 24.625 ] with an error less than: 1256.25 %\n",
      "The solution is in the interval [ -0.5 , 12.0625 ] with an error less than: 628.125 %\n",
      "The solution is in the interval [ -0.5 , 5.78125 ] with an error less than: 314.0625 %\n",
      "The solution is in the interval [ 2.640625 , 5.78125 ] with an error less than: 157.03125 %\n",
      "The solution is in the interval [ 2.640625 , 4.2109375 ] with an error less than: 78.515625 %\n",
      "The solution is in the interval [ 2.640625 , 3.42578125 ] with an error less than: 39.2578125 %\n",
      "The solution is in the interval [ 2.640625 , 3.033203125 ] with an error less than: 19.62890625 %\n",
      "The solution is in the interval [ 2.8369140625 , 3.033203125 ] with an error less than: 9.814453125 %\n",
      "The solution is in the interval [ 2.93505859375 , 3.033203125 ] with an error less than: 4.9072265625 %\n",
      "The solution is in the interval [ 2.984130859375 , 3.033203125 ] with an error less than: 2.45361328125 %\n",
      "The solution is in the interval [ 2.984130859375 , 3.0086669921875 ] with an error less than: 1.226806640625 %\n",
      "The solution is in the interval [ 2.984130859375 , 2.99639892578125 ] with an error less than: 0.6134033203125 %\n",
      "The solution is in the interval [ 2.990264892578125 , 2.99639892578125 ] with an error less than: 0.30670166015625 %\n",
      "The solution is in the interval [ 2.9933319091796875 , 2.99639892578125 ] with an error less than: 0.153350830078125 %\n",
      "The solution is in the interval [ 2.9933319091796875 , 2.9948654174804688 ] with an error less than: 0.0766754150390625 %\n",
      "The solution is in the interval [ 2.994098663330078 , 2.9948654174804688 ] with an error less than: 0.03833770751953125 %\n",
      "The solution is in the interval [ 2.994098663330078 , 2.9944820404052734 ] with an error less than: 0.019168853759765625 %\n",
      "The solution is in the interval [ 2.994290351867676 , 2.9944820404052734 ] with an error less than: 0.009584426879882812 %\n",
      "The solution is in the interval [ 2.994290351867676 , 2.9943861961364746 ] with an error less than: 0.004792213439941406 %\n",
      "The solution is in the interval [ 2.994290351867676 , 2.994338274002075 ] with an error less than: 0.002396106719970703 %\n",
      "The solution is in the interval [ 2.994290351867676 , 2.9943143129348755 ] with an error less than: 0.0011980533599853516 %\n",
      "The solution is in the interval [ 2.9943023324012756 , 2.9943143129348755 ] with an error less than: 0.0005990266799926758 %\n",
      "The solution is in the interval [ 2.9943083226680756 , 2.9943143129348755 ] with an error less than: 0.0002995133399963379 %\n",
      "The solution is in the interval [ 2.9943083226680756 , 2.9943113178014755 ] with an error less than: 0.00014975666999816895 %\n",
      "The solution is in the interval [ 2.9943083226680756 , 2.9943098202347755 ] with an error less than: 7.487833499908447e-05 %\n",
      "The solution is in the interval [ 2.9943083226680756 , 2.9943090714514256 ] with an error less than: 3.7439167499542236e-05 %\n",
      "The solution is in the interval [ 2.9943083226680756 , 2.9943086970597506 ] with an error less than: 1.8719583749771118e-05 %\n",
      "The solution is in the interval [ 2.9943083226680756 , 2.994308509863913 ] with an error less than: 9.359791874885559e-06 %\n"
     ]
    },
    {
     "data": {
      "image/png": "[encoded data removed]",
      "text/plain": [
       "<Figure size 432x288 with 1 Axes>"
      ]
     },
     "metadata": {
      "needs_background": "light"
     },
     "output_type": "display_data"
    }
   ],
   "source": [
    "#Method 1 (Dixotomisi)\n",
    "\n",
    "def f(x):\n",
    "    return np.exp(x)/(x+1)-5 #Define your function here. This function has the obvious solution x=1\n",
    "\n",
    "def corrange(a,b): #This line of code makes sure that when we input the range a and b , we always get the correct sequence\n",
    "    if(a<=b):\n",
    "        return a,b\n",
    "    return b,a\n",
    "\n",
    "def sol(a,b): #This line of code returns the new range at which our solution lies\n",
    "    a,b = corrange(a,b)\n",
    "    m = (a+b)/2\n",
    "    if (f(a)*f(b) == 0):\n",
    "        return a,b\n",
    "    elif (f(a)*f(m) < 0):\n",
    "        return a,m\n",
    "    return m,b\n",
    "\n",
    "def error(a,b):\n",
    "    return abs((a-b))/2\n",
    "#Lets run that a few times to get our solution\n",
    "#Starting values\n",
    "a=-0.5\n",
    "b=100\n",
    "#The number of iteration for the algorithm \n",
    "accuracy = 30\n",
    "store = []\n",
    "for i in range(1,accuracy,1):\n",
    "    a,b = sol(a,b)\n",
    "    print(\"The solution is in the interval [\" ,a ,\",\",b,\"] with an error less than:\",error(a,b)*100,\"%\")\n",
    "    store.append(error(a,b))\n",
    "#The true root according to desmos is 2.994 , so not that bad \n",
    "plt.plot(store,'o--')\n",
    "plt.show()\n",
    "#We can see that the error has the exponential decay that we expected\n",
    "\n",
    "\n"
   ]
  },
  {
   "cell_type": "code",
   "execution_count": 3,
   "id": "1290607c",
   "metadata": {},
   "outputs": [
    {
     "data": {
      "image/png": "[encoded data removed]",
      "text/latex": [
       "$\\displaystyle 2.99430834700212$"
      ],
      "text/plain": [
       "2.9943083470021223"
      ]
     },
     "execution_count": 3,
     "metadata": {},
     "output_type": "execute_result"
    }
   ],
   "source": [
    "#Method 2 (Grammikhs paremvolhs)\n",
    "\n",
    "#we need a guess for the root in the range [x0,x1] with f(x1)f(x2)<0\n",
    "x0 = 1\n",
    "x1 = 10\n",
    "#We shall make the function recursive \n",
    "\n",
    "def calc(x,y):\n",
    "    x,y = corrange(x,y)\n",
    "    return (y-f(y)/(f(y)-f(x))*(y-x))\n",
    "\n",
    "\n",
    "\n",
    "def gpsol(n): #Its written in a way that x2 = gpsol(2)=calc(x1,x0)\n",
    "    if(n == 1):\n",
    "        return x1\n",
    "    elif(n == 0 ):\n",
    "        return x0\n",
    "    else:\n",
    "        return calc(gpsol(n-1),gpsol(n-2))\n",
    "\n",
    "gpsol(19)\n",
    "#Its limit is 19 iterations"
   ]
  },
  {
   "cell_type": "code",
   "execution_count": 4,
   "id": "3d74ca4b",
   "metadata": {},
   "outputs": [
    {
     "name": "stdout",
     "output_type": "stream",
     "text": [
      "13.9333594369980\n",
      "12.8616603657550\n",
      "11.7841037964898\n",
      "10.6997724564499\n",
      "9.60775496635929\n",
      "8.50760788001345\n",
      "7.40079351117952\n",
      "6.29479401736072\n",
      "5.21395515215977\n",
      "4.22360276414275\n",
      "3.45992380654112\n",
      "3.07440920053261\n",
      "2.99692532201390\n",
      "2.99431119830769\n",
      "2.99430834700551\n",
      "2.99430834700212\n",
      "2.99430834700212\n"
     ]
    },
    {
     "data": {
      "image/png": "[encoded data removed]",
      "text/plain": [
       "<Figure size 432x288 with 1 Axes>"
      ]
     },
     "metadata": {
      "needs_background": "light"
     },
     "output_type": "display_data"
    }
   ],
   "source": [
    "#Method 3 (Newton-Raphson)\n",
    "k = symbols('k')\n",
    "f = exp(k)/(k+1)-5\n",
    "fprime = diff(f,k)\n",
    "guess = 15\n",
    "#Thats an easy recursive function\n",
    "#Note to self , never call something easy because thats the fastest way for the code to not work\n",
    "list = []\n",
    "\n",
    "def help(n):\n",
    "    return (f.subs(k,n).evalf())/(fprime.subs(k,n).evalf())\n",
    "\n",
    "def lin(x):\n",
    "    return x-help(x)\n",
    "\n",
    "def nrsol(n):\n",
    "    if(n == 1):\n",
    "        #print(\"finish\")\n",
    "        return lin(guess)\n",
    "    else:  \n",
    "        #print(n)\n",
    "        return lin(nrsol(n-1))\n",
    "\n",
    "for i in range(1,18,1):\n",
    "    list.append(nrsol(i))\n",
    "    print(nrsol(i))\n",
    "    \n",
    "plt.plot(list , 'o--')\n",
    "plt.show()"
   ]
  },
  {
   "cell_type": "markdown",
   "id": "e9eebb81",
   "metadata": {},
   "source": [
    "Finding solutions to linear systems of equations\n"
   ]
  },
  {
   "cell_type": "code",
   "execution_count": 71,
   "id": "757659f8",
   "metadata": {},
   "outputs": [
    {
     "name": "stdout",
     "output_type": "stream",
     "text": [
      "1    3    5    3    \n",
      "3    5    3    2    \n",
      "1    2    4    1    \n",
      "1    4    3    2    \n",
      "\n",
      "1    3    5    3    \n",
      "0    -4    -12    -7    \n",
      "1    2    4    1    \n",
      "1    4    3    2    \n",
      "\n",
      "[[1, 3, 5, 3], [0, -4, -12, -7], [1, 2, 4, 1], [1, 4, 3, 2]]\n"
     ]
    }
   ],
   "source": [
    "#Some introductory functions to make everything prettier.We deal only with \n",
    "#Remember matrices start counting from 0\n",
    "\n",
    "def visualize(A):\n",
    "    for i in range(0,len(A),1):\n",
    "        for j in range(0,len(A[0]),1):\n",
    "            print(A[i][j], \"   \" ,end = '')\n",
    "        print('')\n",
    "    print(\"\")   \n",
    "    return 0\n",
    "#for example\n",
    "A = [[1,3,5,3],[3,5,3,2,],[1,2,4,1],[1,4,3,2]]\n",
    "visualize(A)\n",
    "\n",
    "#A function to add the rows on a matrix\n",
    "\n",
    "def rowadd(A, I , J , a  ):\n",
    "    for i in range(0,len(A[0]),1):\n",
    "        A[J][i] = A[J][i]+a*A[I][i]\n",
    "    return A\n",
    "#These variables represent the matrix we want to change , I and J is the index of the rows , and a is a scalar quantity by which we multiply the first row\n",
    "\n",
    "\n",
    "def coladd(A, I , J , a  ):\n",
    "    for i in range(0,len(A),1):\n",
    "        A[i][J] = A[i][J]+a*A[i][I]\n",
    "    return A\n",
    "\n",
    "def normalize(A):\n",
    "    for i in range(0,len(A),1):\n",
    "        norm = A[i][i]\n",
    "        for j in range(0,len(A[0]),1):\n",
    "            A[i][j] = A[i][j]/norm\n",
    "#This function renders the diagonals of a matrix 1, by scaling all the rows appropriately\n",
    "\n",
    "\n",
    "def plug(A,B):\n",
    "    n = len(A)\n",
    "    m = n+1\n",
    "    arr = np.ones((n, m))\n",
    "    for i in range(0,n,1):\n",
    "        for j in range(0,n,1):\n",
    "            arr[i][j] = A[i][j]\n",
    "    for k in range(0,n,1):\n",
    "        arr[k][n] = B[k]\n",
    "    return arr\n",
    "#This function takes an nxn matrix and adds a n+1 column that has the elements of a vertical vector b (np.array)\n",
    "\n",
    "#This function does the exact opposite job of the last one\n",
    "def deplug(A):\n",
    "    n = len(A)\n",
    "    m = n+1\n",
    "    arrA = np.ones((n, n))\n",
    "    arrB = np.ones((n,1))\n",
    "    for i in range(0,n,1):\n",
    "        for j in range(0,n,1):\n",
    "            arrA[i][j] = A[i][j]\n",
    "    for k in range(0,n,1):\n",
    "        arrB[k] = A[k][n]\n",
    "    return arrA,arrB\n",
    "\n",
    "rowadd(A,0,1,-3) \n",
    "visualize(A)\n",
    "print(A)"
   ]
  },
  {
   "cell_type": "code",
   "execution_count": 78,
   "id": "97598380",
   "metadata": {},
   "outputs": [
    {
     "name": "stdout",
     "output_type": "stream",
     "text": [
      "1 2\n",
      "[2.16666667]\n",
      "0 1\n",
      "0 2\n",
      "[11.61904762]\n",
      "[[ 1.          2.          3.        ]\n",
      " [ 0.          1.         -0.14285714]\n",
      " [-0.         -0.          1.        ]]\n",
      "[[11.61904762]\n",
      " [ 2.16666667]\n",
      " [-3.83333333]]\n",
      "[[ 5.        ]\n",
      " [ 2.71428571]\n",
      " [-3.83333333]]\n"
     ]
    },
    {
     "data": {
      "text/plain": [
       "array([[11.61904762],\n",
       "       [ 2.16666667],\n",
       "       [-3.83333333]])"
      ]
     },
     "execution_count": 78,
     "metadata": {},
     "output_type": "execute_result"
    }
   ],
   "source": [
    "#Method (Gauss elimination)\n",
    "A = [[1,1,1],[0,1,1],[0,0,1]] #The matrix of the system\n",
    "b = np.array([[1],[1],[1]]) #The vector of the constant coefficients\n",
    "#Its important that u define it as np.array() eitherwise python gets a bit cranky and doesnt cooperate\n",
    "def Gausselim(A,b):\n",
    "    A = plug(A,b)\n",
    "    for index in range(0,len(A)-1,1):\n",
    "        for k in range(1,len(A)-index,1):\n",
    "            rowadd(A, index, index + k, -A[index+k][index]/A[index][index]) \n",
    "    normalize(A)       \n",
    "    return deplug(A)  \n",
    "#The function return a tuple containing both the upper triangular matrix , and the vertical vector that contains the constant \n",
    "#values of the system of equations.\n",
    "#We now enter the second phase of gauss elimination. Having obtained the proper matrices , we must now solve for the values of the\n",
    "#unknown variables\n",
    "\n",
    "#I choose to run the array backwards , because we start at the very bottom.\n",
    "def Gaussclear(matr , vec):\n",
    "    sol = np.ones((len(vec),1))\n",
    "    l = len(vec)\n",
    "    psum = 0\n",
    "    sol[l-1] = (vec[l-1])/(matr[l-1][l-1])\n",
    "    for index in range(l-2,-1,-1):\n",
    "        para = matr[index][index]\n",
    "        for j in range(index +1 , l ,1):\n",
    "                psum =psum + matr[index][j]*sol[j]\n",
    "                print(index , j)\n",
    "        sol[index] = (vec[index] -psum)/(para)\n",
    "        print(sol[index])\n",
    "  \n",
    "    print(matr)\n",
    "    print(sol)\n",
    "    print(vec)\n",
    "    return sol\n",
    "\n",
    "#We could easily merge the two blocks of code together.\n",
    "\n",
    "def Gausssol(A,b):\n",
    "    matr = Gausselim(A,b)[0] \n",
    "    vec  = Gausselim(A,b)[1]\n",
    "    return Gaussclear(matr,vec)\n",
    "\n",
    "\n",
    "#There is an error with the code. i will come back to it later. It doesnt produce the correct solutions fot the first index\n",
    "p = [[1,2,3],[-2,3,-7],[4,-1,9]]\n",
    "q = np.array([[5],[9],[12]])\n",
    "Gaussclear(Gausselim(p,q)[0],Gausselim(p,q)[1])\n",
    "\n"
   ]
  },
  {
   "cell_type": "code",
   "execution_count": 67,
   "id": "cce9b852",
   "metadata": {},
   "outputs": [
    {
     "name": "stdout",
     "output_type": "stream",
     "text": [
      "Results\n",
      "1.0    0.0    0.0    -86.9795918367347    \n",
      "0.0    1.0    0.0    21.346938775510203    \n",
      "-0.0    -0.0    1.0    16.42857142857143    \n",
      "\n"
     ]
    },
    {
     "data": {
      "image/png": "[encoded data removed]",
      "text/latex": [
       "$\\displaystyle 0$"
      ],
      "text/plain": [
       "0"
      ]
     },
     "execution_count": 67,
     "metadata": {},
     "output_type": "execute_result"
    }
   ],
   "source": [
    "#Method Gauss-Jordan Elimination\n",
    "A =  [[1,2,1,5,6]\n",
    "     ,[3,1,1,6,2]\n",
    "     ,[1,0,1,5,2]\n",
    "     ,[1,3,5,2,5]\n",
    "     ,[7,4,2,5,3]]\n",
    "b = np.array([[3],[4],[3],[9],[1]])\n",
    "\n",
    "p = [[1,2,3],[-2,3,-7],[4,-1,9]]\n",
    "q = np.array([[5],[9],[12]])\n",
    "\n",
    "\n",
    "C = plug(Gausselim(p,q)[0],Gausselim(p,q)[1])\n",
    "length = len(C)\n",
    "\n",
    "#Again i will run the matrix from the bottom. We try to make the matrix and upper rectangular. \n",
    "#Thus the diagonals will equal the appropriate values for our solutions\n",
    "for k in range(length - 1,-1,-1):\n",
    "    param = C[k][k]\n",
    "    for j in range(k-1 , -1,-1):\n",
    "        elimfactor = -C[j][k]/param\n",
    "        rowadd(C , k , j, elimfactor)\n",
    "\n",
    "print(\"Results\")\n",
    "visualize(C)\n",
    "#p = [[1,2,3],[-2,3,-7],[4,-1,9]]\n",
    "#q = np.array([[5],[9],[12]])\n",
    "#visualize(Gausssol(p,q))\n",
    "\n",
    "\n"
   ]
  },
  {
   "cell_type": "code",
   "execution_count": null,
   "id": "93a3fa17",
   "metadata": {},
   "outputs": [],
   "source": []
  },
  {
   "cell_type": "code",
   "execution_count": null,
   "id": "b060f1aa",
   "metadata": {},
   "outputs": [],
   "source": [
    "\n"
   ]
  },
  {
   "cell_type": "code",
   "execution_count": null,
   "id": "55e7c90d",
   "metadata": {},
   "outputs": [],
   "source": []
  }
 ],
 "metadata": {
  "kernelspec": {
   "display_name": "Python 3 (ipykernel)",
   "language": "python",
   "name": "python3"
  },
  "language_info": {
   "codemirror_mode": {
    "name": "ipython",
    "version": 3
   },
   "file_extension": ".py",
   "mimetype": "text/x-python",
   "name": "python",
   "nbconvert_exporter": "python",
   "pygments_lexer": "ipython3",
   "version": "3.9.12"
  }
 },
 "nbformat": 4,
 "nbformat_minor": 5
}
